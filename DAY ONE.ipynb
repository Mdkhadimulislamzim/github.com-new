{
 "cells": [
  {
   "cell_type": "markdown",
   "metadata": {},
   "source": [
    "In session exercise"
   ]
  },
  {
   "cell_type": "code",
   "execution_count": 2,
   "metadata": {},
   "outputs": [
    {
     "name": "stdout",
     "output_type": "stream",
     "text": [
      "9\n"
     ]
    }
   ],
   "source": [
    "var=5+4 #works as operator\n",
    "print(var)"
   ]
  },
  {
   "cell_type": "code",
   "execution_count": 4,
   "metadata": {},
   "outputs": [
    {
     "data": {
      "text/plain": [
       "'covid19'"
      ]
     },
     "execution_count": 4,
     "metadata": {},
     "output_type": "execute_result"
    }
   ],
   "source": [
    "\"covid\"+\"19\" #where with string it work as concadinatio"
   ]
  },
  {
   "cell_type": "code",
   "execution_count": 5,
   "metadata": {},
   "outputs": [
    {
     "data": {
      "text/plain": [
       "int"
      ]
     },
     "execution_count": 5,
     "metadata": {},
     "output_type": "execute_result"
    }
   ],
   "source": [
    "type(36)#integer type"
   ]
  },
  {
   "cell_type": "code",
   "execution_count": 6,
   "metadata": {},
   "outputs": [
    {
     "data": {
      "text/plain": [
       "str"
      ]
     },
     "execution_count": 6,
     "metadata": {},
     "output_type": "execute_result"
    }
   ],
   "source": [
    "type(\"string\")#string type"
   ]
  },
  {
   "cell_type": "code",
   "execution_count": 7,
   "metadata": {},
   "outputs": [
    {
     "data": {
      "text/plain": [
       "bool"
      ]
     },
     "execution_count": 7,
     "metadata": {},
     "output_type": "execute_result"
    }
   ],
   "source": [
    "type(False)#True or False bool type"
   ]
  },
  {
   "cell_type": "markdown",
   "metadata": {},
   "source": [
    "In session exercise 01"
   ]
  },
  {
   "cell_type": "code",
   "execution_count": 12,
   "metadata": {},
   "outputs": [
    {
     "name": "stdout",
     "output_type": "stream",
     "text": [
      "What is corona?\n",
      "Corona is a virus\n"
     ]
    }
   ],
   "source": [
    "print (\"What is corona?\")\n",
    "a = \"Bacteria\"\n",
    "b = \"virus\"\n",
    "print (\"Corona is a {}\".format(b))"
   ]
  },
  {
   "cell_type": "raw",
   "metadata": {},
   "source": []
  },
  {
   "cell_type": "markdown",
   "metadata": {},
   "source": [
    "# "
   ]
  },
  {
   "cell_type": "code",
   "execution_count": 14,
   "metadata": {},
   "outputs": [
    {
     "name": "stdout",
     "output_type": "stream",
     "text": [
      "Hey there hello india\n"
     ]
    }
   ],
   "source": [
    "a = \"hello india\" \n",
    "print (\"Hey there {}\".format(a))"
   ]
  },
  {
   "cell_type": "code",
   "execution_count": 16,
   "metadata": {},
   "outputs": [
    {
     "name": "stdout",
     "output_type": "stream",
     "text": [
      "hey there. im from Bangladesh\n"
     ]
    }
   ],
   "source": [
    "b = \"im from Bangladesh\"\n",
    "print (\"hey there. {}\" .format(b))"
   ]
  },
  {
   "cell_type": "code",
   "execution_count": 17,
   "metadata": {},
   "outputs": [
    {
     "name": "stdout",
     "output_type": "stream",
     "text": [
      "MD KHADIMUL ISLAM ZIM\n"
     ]
    }
   ],
   "source": [
    "a = \"MD\"\n",
    "b = \"KHADIMUL ISLAM\"\n",
    "c = \"ZIM\"\n",
    "print (a +\" \"+ b +\" \"+ c)"
   ]
  },
  {
   "cell_type": "code",
   "execution_count": 21,
   "metadata": {},
   "outputs": [
    {
     "name": "stdout",
     "output_type": "stream",
     "text": [
      "100\n",
      "50\n"
     ]
    }
   ],
   "source": [
    "corona_infected_today = 100\n",
    "corona_infected_yesterday = 50\n",
    "Total_infected_case = 300\n",
    "District = \"Lalmonirhat\"\n",
    "print (corona_infected_today)\n",
    "freshly_infected = corona_infected_today-corona_infected_yesterday\n",
    "print (freshly_infected)"
   ]
  },
  {
   "cell_type": "code",
   "execution_count": 20,
   "metadata": {},
   "outputs": [
    {
     "name": "stdout",
     "output_type": "stream",
     "text": [
      "Lalmonirhat\n"
     ]
    }
   ],
   "source": [
    "print (District)"
   ]
  },
  {
   "cell_type": "code",
   "execution_count": 22,
   "metadata": {},
   "outputs": [
    {
     "name": "stdout",
     "output_type": "stream",
     "text": [
      "100.0\n"
     ]
    }
   ],
   "source": [
    "percent_increment = ((corona_infected_today-corona_infected_yesterday)/corona_infected_yesterday)*100\n",
    "print (percent_increment)"
   ]
  },
  {
   "cell_type": "code",
   "execution_count": 24,
   "metadata": {},
   "outputs": [
    {
     "name": "stdout",
     "output_type": "stream",
     "text": [
      "450\n",
      "1261\n",
      "550.0\n",
      "-83.33333333333334\n"
     ]
    },
    {
     "data": {
      "text/plain": [
       "'Gair'"
      ]
     },
     "execution_count": 24,
     "metadata": {},
     "output_type": "execute_result"
    }
   ],
   "source": [
    "District = \"Gwalior\"\n",
    "total_infected_before_10June = 1234\n",
    "infected_10June = a\n",
    "infected_11June = b\n",
    "infected_12June = c\n",
    "a = 100\n",
    "b = 50\n",
    "c = 300\n",
    "\n",
    "total_infected_between_10to12_june = a + b + c\n",
    "print (total_infected_between_10to12_june)\n",
    "\n",
    "total_infected_till_date = total_infected_before_10June + infected_10June + infected_11June + infected_12June\n",
    "print (total_infected_till_date)\n",
    "\n",
    "percentage_increment_on_12June = ((infected_12June-infected_11June)/infected_11June)*100\n",
    "print (percentage_increment_on_12June)\n",
    "\n",
    "percentage_increment_on_11June = ((infected_11June-infected_10June)/infected_10June)*100\n",
    "print (percentage_increment_on_11June)\n",
    "\n",
    "District[2]\n",
    "District[::2]"
   ]
  },
  {
   "cell_type": "code",
   "execution_count": null,
   "metadata": {},
   "outputs": [],
   "source": []
  }
 ],
 "metadata": {
  "kernelspec": {
   "display_name": "Python 3",
   "language": "python",
   "name": "python3"
  },
  "language_info": {
   "codemirror_mode": {
    "name": "ipython",
    "version": 3
   },
   "file_extension": ".py",
   "mimetype": "text/x-python",
   "name": "python",
   "nbconvert_exporter": "python",
   "pygments_lexer": "ipython3",
   "version": "3.7.6"
  }
 },
 "nbformat": 4,
 "nbformat_minor": 4
}
