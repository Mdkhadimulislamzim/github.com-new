{
 "cells": [
  {
   "cell_type": "markdown",
   "metadata": {},
   "source": [
    "Home Exercise"
   ]
  },
  {
   "cell_type": "code",
   "execution_count": 1,
   "metadata": {},
   "outputs": [],
   "source": [
    "from tkinter import*\n",
    "from tkinter.ttk import Combobox\n",
    "window=Tk()\n",
    "window.geometry('500x500+400+50')\n",
    "\n",
    "def Imr():\n",
    "    answer_value.set((float(infected_value.get())/float(deceased_value.get()))*100)\n",
    "def Cmr():\n",
    "        answer_value.set((float(deceased_value.get())/float(population_value.get()))*100000)\n",
    "\n",
    "window.title('Covid19 Pnademic Analytics Engine')\n",
    "state_list=[\"Andhra Pradesh\",\"Arunachal Pradesh\",\"Assam\",\"Bihar\",\"Chhattisgarh\",\"Goa\",\"Gujarat\",\"Haryana\",\"Himachal Pradesh\",\"Jammu and Kashmir\",\"Jharkhand\",\n",
    "            \"Karnataka\",\"Kerala\",\"Madhya Pradesh\",\"Maharashtra\",\"Manipur\",\"Meghalaya\",\"Mizoram\",\"Nagaland\",\"Odisha\",\n",
    "            \"Punjab\",\"Rajasthan\",\"Sikkim\",\"Tamil Nadu\",\"Telangana\",\"Tripura\",\"Uttar Pradesh\",\"Uttarakhand\",\"West Bengal\"]\n",
    "a=Label(window,text='Pandemic Analyzer',fg='red',font = ('times new roman', 18, 'bold'))\n",
    "a.grid(row=0,column=0,sticky=W)\n",
    "select_state=Label(window,text='Select State:',fg='black',font = ('times new roman', 14, 'bold'))\n",
    "select_state.grid(row=1,column=0,sticky=W)\n",
    "combo=Combobox(window,values=state_list)\n",
    "combo.set(\"Select\")\n",
    "combo.grid(row=1,column=4,padx=20)\n",
    "\n",
    "\n",
    "infected=Label(window,text='Infected',fg='yellow',font = ('times new roman', 14, 'bold')).grid(row=3,column=0,sticky=W)\n",
    "recovered=Label(window,text='Recovered',fg='green',font = ('times new roman', 14, 'bold')).grid(row=4,column=0,sticky=W)\n",
    "deceased=Label(window,text='Deceased',fg='red',font = ('times new roman', 14, 'bold')).grid(row=5,column=0,sticky=W)\n",
    "population=Label(window,text='Population for caluclating CMR',fg='white',font = ('times new roman', 14, 'bold')).grid(row=6,column=0,sticky=W)\n",
    "\n",
    "infected_value=DoubleVar()\n",
    "recovered_value=DoubleVar()\n",
    "deceased_value=DoubleVar()\n",
    "population_value=DoubleVar()\n",
    "\n",
    "infected_entry=Entry(window,textvariable=infected_value).grid(row=3,column=4,sticky=W,padx=30)\n",
    "recovered_entry=Entry(window,textvariable=recovered_value).grid(row=4,column=4,sticky=W,padx=30)\n",
    "deceased_entry=Entry(window,textvariable=deceased_value).grid(row=5,column=4,sticky=W,padx=30)\n",
    "population_entry=Entry(window,textvariable=population_value).grid(row=6,column=4,sticky=W,padx=30)\n",
    "\n",
    "b1=Button(window,text='IMR',font = ('Comic sans ms', 14, 'bold'),command=Imr,bg='black',fg='red',relief=GROOVE).grid(row=7,column=0,sticky=W)\n",
    "b2=Button(window,text='CMR',font = ('Comic sans ms', 14, 'bold'),command=Cmr,bg='black',fg='red',relief=GROOVE).grid(row=7,column=1,sticky=E)\n",
    "\n",
    "answer_value=DoubleVar()\n",
    "answer=Label(window,text='Value:',font = ('times new roman', 14, 'bold'),fg='blue').grid(row=8,column=0,sticky=W)\n",
    "answer_entry=Entry(window,textvariable=answer_value).grid(row=8,column=4,sticky=E,padx=30)\n",
    "\n",
    "window.mainloop()"
   ]
  },
  {
   "cell_type": "code",
   "execution_count": null,
   "metadata": {},
   "outputs": [],
   "source": []
  }
 ],
 "metadata": {
  "kernelspec": {
   "display_name": "Python 3",
   "language": "python",
   "name": "python3"
  },
  "language_info": {
   "codemirror_mode": {
    "name": "ipython",
    "version": 3
   },
   "file_extension": ".py",
   "mimetype": "text/x-python",
   "name": "python",
   "nbconvert_exporter": "python",
   "pygments_lexer": "ipython3",
   "version": "3.7.6"
  }
 },
 "nbformat": 4,
 "nbformat_minor": 4
}
